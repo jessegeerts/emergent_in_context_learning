{
 "cells": [
  {
   "cell_type": "code",
   "execution_count": null,
   "id": "c7386997-abea-41b9-9aa6-ebcfec0e2ba7",
   "metadata": {},
   "outputs": [],
   "source": [
    "%run python -m emergent_in_context_learning.experiment.experiment --config ./emergent_in_context_learning/experiment/configs/images_all_exemplars.py --jaxline_mode train --logtostderr"
   ]
  },
  {
   "cell_type": "code",
   "execution_count": null,
   "id": "ff8b0ff0-5255-4e31-9f29-269f22f9776f",
   "metadata": {},
   "outputs": [],
   "source": []
  }
 ],
 "metadata": {
  "kernelspec": {
   "display_name": "Python 3 (ipykernel)",
   "language": "python",
   "name": "python3"
  },
  "language_info": {
   "codemirror_mode": {
    "name": "ipython",
    "version": 3
   },
   "file_extension": ".py",
   "mimetype": "text/x-python",
   "name": "python",
   "nbconvert_exporter": "python",
   "pygments_lexer": "ipython3",
   "version": "3.10.13"
  }
 },
 "nbformat": 4,
 "nbformat_minor": 5
}
